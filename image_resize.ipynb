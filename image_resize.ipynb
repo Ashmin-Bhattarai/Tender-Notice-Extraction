{
 "cells": [
  {
   "cell_type": "code",
   "execution_count": 23,
   "id": "b511048b",
   "metadata": {},
   "outputs": [],
   "source": [
    "import tensorflow as tf\n"
   ]
  },
  {
   "cell_type": "code",
   "execution_count": 24,
   "id": "323eac86",
   "metadata": {},
   "outputs": [],
   "source": [
    "target_height=254\n",
    "target_width=254\n"
   ]
  },
  {
   "cell_type": "code",
   "execution_count": 25,
   "id": "23da9406",
   "metadata": {},
   "outputs": [],
   "source": [
    "path=\"anuj.jpeg\"\n",
    "image = tf.keras.preprocessing.image.load_img(path)"
   ]
  },
  {
   "cell_type": "code",
   "execution_count": 26,
   "id": "62d5ab0e",
   "metadata": {},
   "outputs": [],
   "source": [
    "resized_image=tf.image.resize_with_pad(\n",
    "    image, target_height, target_width, method=tf.image.ResizeMethod.BILINEAR,\n",
    "    antialias=False\n",
    ")\n"
   ]
  },
  {
   "cell_type": "code",
   "execution_count": 31,
   "id": "6afbe3f2",
   "metadata": {},
   "outputs": [],
   "source": [
    "tf.keras.utils.save_img(\"resized_anuj\",\n",
    "resized_image, file_format=\"png\")"
   ]
  }
 ],
 "metadata": {
  "kernelspec": {
   "display_name": "Python 3 (ipykernel)",
   "language": "python",
   "name": "python3"
  },
  "language_info": {
   "codemirror_mode": {
    "name": "ipython",
    "version": 3
   },
   "file_extension": ".py",
   "mimetype": "text/x-python",
   "name": "python",
   "nbconvert_exporter": "python",
   "pygments_lexer": "ipython3",
   "version": "3.10.1"
  }
 },
 "nbformat": 4,
 "nbformat_minor": 5
}
