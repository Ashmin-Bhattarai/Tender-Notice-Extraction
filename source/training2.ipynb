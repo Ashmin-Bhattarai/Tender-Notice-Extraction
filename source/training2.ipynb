{
 "cells": [
  {
   "cell_type": "code",
   "execution_count": 1,
   "metadata": {},
   "outputs": [],
   "source": [
    "import os\n",
    "import time\n",
    "\n",
    "import numpy as np\n",
    "import pandas as pd\n",
    "import matplotlib.pyplot as plt\n",
    "\n",
    "import tensorflow as tf\n",
    "from tensorflow import keras\n",
    "import tensorflow_addons as tfa\n",
    "\n",
    "from sklearn.model_selection import train_test_split\n",
    "from sklearn import metrics\n",
    "\n",
    "from Inception import InceptionUnit\n",
    "from ResNet import ResidualUnit\n",
    "from Xception import XceptionUnit\n",
    "from model import ResNet, GoogleNet, Xception"
   ]
  },
  {
   "cell_type": "code",
   "execution_count": 2,
   "metadata": {},
   "outputs": [],
   "source": [
    "datasets = np.load('D:\\Programming\\Python\\Tender-Notice-Extraction\\source\\models\\datasets.npy', allow_pickle=True)\n",
    "np.random.shuffle(datasets)\n",
    "X = []\n",
    "y = []\n",
    "for ele in datasets:\n",
    "    X.append(ele[0])\n",
    "    y.append(ele[1])\n",
    "X = np.array(X)\n",
    "y = np.array(y)\n",
    "\n",
    "early_stopping_cb = keras.callbacks.EarlyStopping(patience=10, restore_best_weights=True)\n",
    "epoch = 2\n",
    "f = 1"
   ]
  },
  {
   "cell_type": "code",
   "execution_count": 3,
   "metadata": {},
   "outputs": [],
   "source": [
    "X_train_full, X_test, y_train_full, y_test = train_test_split(X, y, test_size=0.2, random_state=f)\n",
    "X_train, X_valid, y_train, y_valid = train_test_split(X_train_full, y_train_full, test_size=0.2, random_state=f)"
   ]
  },
  {
   "cell_type": "code",
   "execution_count": 4,
   "metadata": {},
   "outputs": [],
   "source": [
    "model_resnet = ResNet()"
   ]
  },
  {
   "cell_type": "code",
   "execution_count": 6,
   "metadata": {},
   "outputs": [],
   "source": [
    "model_resnet.compile(optimizer = \"adam\", loss = \"binary_crossentropy\", metrics = [\"accuracy\",keras.metrics.Precision(), keras.metrics.Recall(), tfa.metrics.F1Score(num_classes=1, threshold=0.5)])\n",
    "# model_googlenet.compile(optimizer = \"adam\", loss = \"binary_crossentropy\", metrics = [\"accuracy\", tfa.metrics.F1Score(num_classes=2)])\n",
    "# model_xception.compile(optimizer = \"adam\", loss = \"binary_crossentropy\", metrics = [\"accuracy\", tfa.metrics.F1Score(num_classes=2)])"
   ]
  },
  {
   "cell_type": "code",
   "execution_count": 7,
   "metadata": {},
   "outputs": [
    {
     "name": "stdout",
     "output_type": "stream",
     "text": [
      "\n",
      "\n",
      "Training ResNet\n",
      "\n",
      "\n",
      "Epoch 1/2\n",
      "788/788 [==============================] - 20s 17ms/step - loss: 0.2123 - accuracy: 0.9202 - precision: 0.9204 - recall: 0.9230 - f1_score: 0.9217 - val_loss: 0.1570 - val_accuracy: 0.9527 - val_precision: 0.9318 - val_recall: 0.9811 - val_f1_score: 0.9558\n",
      "Epoch 2/2\n",
      "788/788 [==============================] - 12s 15ms/step - loss: 0.1221 - accuracy: 0.9592 - precision: 0.9588 - recall: 0.9610 - f1_score: 0.9599 - val_loss: 2.9597 - val_accuracy: 0.5409 - val_precision: 0.7300 - val_recall: 0.1893 - val_f1_score: 0.3006\n"
     ]
    }
   ],
   "source": [
    "print(\"\\n\\nTraining ResNet\\n\\n\")\n",
    "checkpoint_cb_resnet = keras.callbacks.ModelCheckpoint(filepath='D:\\Programming\\Python\\Tender-Notice-Extraction\\source\\models\\checkpoint_resnet.h5', save_best_only=True)\n",
    "history_resnet = model_resnet.fit(X_train, y_train, epochs = epoch, validation_data = (X_valid, y_valid), callbacks = [checkpoint_cb_resnet], batch_size = 16)"
   ]
  },
  {
   "cell_type": "code",
   "execution_count": 8,
   "metadata": {},
   "outputs": [
    {
     "data": {
      "text/plain": [
       "[0.9203856587409973, 0.9587740898132324]"
      ]
     },
     "execution_count": 8,
     "metadata": {},
     "output_type": "execute_result"
    }
   ],
   "source": [
    "history_resnet.history['precision']"
   ]
  },
  {
   "cell_type": "code",
   "execution_count": 9,
   "metadata": {},
   "outputs": [
    {
     "data": {
      "text/plain": [
       "[array([0.9216755], dtype=float32), array([0.9598941], dtype=float32)]"
      ]
     },
     "execution_count": 9,
     "metadata": {},
     "output_type": "execute_result"
    }
   ],
   "source": [
    "history_resnet.history['f1_score']"
   ]
  },
  {
   "cell_type": "code",
   "execution_count": 10,
   "metadata": {},
   "outputs": [
    {
     "data": {
      "text/plain": [
       "[0.9229689836502075, 0.9610167145729065]"
      ]
     },
     "execution_count": 10,
     "metadata": {},
     "output_type": "execute_result"
    }
   ],
   "source": [
    "history_resnet.history['recall']"
   ]
  },
  {
   "cell_type": "code",
   "execution_count": null,
   "metadata": {},
   "outputs": [],
   "source": []
  }
 ],
 "metadata": {
  "interpreter": {
   "hash": "ac59ebe37160ed0dfa835113d9b8498d9f09ceb179beaac4002f036b9467c963"
  },
  "kernelspec": {
   "display_name": "Python 3.9.9 64-bit",
   "language": "python",
   "name": "python3"
  },
  "language_info": {
   "codemirror_mode": {
    "name": "ipython",
    "version": 3
   },
   "file_extension": ".py",
   "mimetype": "text/x-python",
   "name": "python",
   "nbconvert_exporter": "python",
   "pygments_lexer": "ipython3",
   "version": "3.9.9"
  },
  "orig_nbformat": 4
 },
 "nbformat": 4,
 "nbformat_minor": 2
}
