{
 "cells": [
  {
   "cell_type": "code",
   "execution_count": null,
   "id": "996ec419",
   "metadata": {},
   "outputs": [],
   "source": [
    "import os\n",
    "import time\n",
    "import tensorflow as tf\n",
    "from tensorflow import keras\n",
    "import numpy as np\n",
    "from ResNet import ResidualUnit\n",
    "from Inception import InceptionUnit\n",
    "from Xception import XceptionUnit"
   ]
  },
  {
   "cell_type": "code",
   "execution_count": null,
   "id": "19fe69ab",
   "metadata": {},
   "outputs": [],
   "source": [
    "model_resnet = keras.models.Sequential()\n",
    "model_resnet.add(keras.layers.Conv2D(8, 7, strides = 2, input_shape = [224, 224, 3], padding = \"same\", use_bias = False))\n",
    "model_resnet.add(keras.layers.BatchNormalization())\n",
    "model_resnet.add(keras.layers.Activation(\"relu\"))\n",
    "model_resnet.add(keras.layers.MaxPool2D(pool_size=3, strides=2, padding = \"same\"))\n",
    "prev_filters = 8\n",
    "for filters in [8, 16, 32]:\n",
    "    strides = 1 if filters == prev_filters else 2\n",
    "    model_resnet.add(ResidualUnit(filters, strides = strides))\n",
    "    prev_filters = filters\n",
    "model_resnet.add(keras.layers.GlobalAveragePooling2D())\n",
    "model_resnet.add(keras.layers.Flatten())\n",
    "model_resnet.add(keras.layers.Dense(10, activation = \"relu\"))\n",
    "model_resnet.add(keras.layers.Dense(1, activation = \"sigmoid\"))"
   ]
  },
  {
   "cell_type": "code",
   "execution_count": null,
   "id": "2f2965e4",
   "metadata": {},
   "outputs": [],
   "source": [
    "model_googlenet = keras.models.Sequential()\n",
    "model_googlenet.add(keras.layers.Conv2D(64, 7, strides = 2, input_shape = [224, 224, 3], padding = \"same\", use_bias = False))\n",
    "model_googlenet.add(keras.layers.BatchNormalization())\n",
    "model_googlenet.add(keras.layers.Activation(\"relu\"))\n",
    "model_googlenet.add(keras.layers.MaxPool2D(pool_size=3, strides=2, padding = \"same\"))\n",
    "model_googlenet.add(InceptionUnit())\n",
    "model_googlenet.add(keras.layers.GlobalAveragePooling2D())\n",
    "model_googlenet.add(keras.layers.Flatten())\n",
    "model_googlenet.add(keras.layers.Dense(10, activation = \"relu\"))\n",
    "model_googlenet.add(keras.layers.Dense(1, activation = \"sigmoid\"))"
   ]
  },
  {
   "cell_type": "code",
   "execution_count": null,
   "id": "d799cbec",
   "metadata": {},
   "outputs": [],
   "source": [
    "model_xception = keras.models.Sequential()\n",
    "model_xception.add(keras.layers.Conv2D(8, 7, strides = 2, input_shape = [224, 224, 3], padding = \"same\", use_bias = False))\n",
    "model_xception.add(keras.layers.BatchNormalization())\n",
    "model_xception.add(keras.layers.Activation(\"relu\"))\n",
    "model_xception.add(XceptionUnit(8, isEntryExit=True))\n",
    "model_xception.add(XceptionUnit(16))\n",
    "model_xception.add(XceptionUnit(16))\n",
    "model_xception.add(XceptionUnit(8, isEntryExit=True))\n",
    "model_xception.add(keras.layers.SeparableConv2D(8, 3, padding = \"same\"))\n",
    "model_xception.add(keras.layers.BatchNormalization())\n",
    "model_xception.add(keras.layers.Activation(\"relu\"))\n",
    "model_xception.add(keras.layers.Flatten())\n",
    "model_xception.add(keras.layers.Dense(10, activation = \"relu\"))\n",
    "model_xception.add(keras.layers.Dense(1, activation = \"softmax\"))"
   ]
  },
  {
   "cell_type": "code",
   "execution_count": null,
   "id": "0cc50b5e",
   "metadata": {},
   "outputs": [],
   "source": [
    "img_height = 224\n",
    "img_weight = 224\n",
    "batch_size = 16"
   ]
  },
  {
   "cell_type": "code",
   "execution_count": null,
   "id": "582053e4",
   "metadata": {},
   "outputs": [],
   "source": [
    "ds_train = keras.utils.image_dataset_from_directory(\n",
    "    \"D:\\Programming\\Python\\Tender-Notice-Extraction\\Datasets\",\n",
    "    color_mode = \"rgb\",\n",
    "    batch_size = batch_size,\n",
    "    image_size = (img_height, img_weight),\n",
    "    shuffle = True,\n",
    "    seed = 123,\n",
    "    validation_split = 0.20,\n",
    "    subset = \"training\"\n",
    ")"
   ]
  },
  {
   "cell_type": "code",
   "execution_count": null,
   "id": "ae882eb4",
   "metadata": {},
   "outputs": [],
   "source": [
    "ds_valid = keras.utils.image_dataset_from_directory(\n",
    "    \"D:\\Programming\\Python\\Tender-Notice-Extraction\\Datasets\",\n",
    "    color_mode = \"rgb\",\n",
    "    batch_size = batch_size,\n",
    "    image_size = (img_height, img_weight),\n",
    "    shuffle = True,\n",
    "    seed = 123,\n",
    "    validation_split = 0.20,\n",
    "    subset = \"validation\"\n",
    ")"
   ]
  },
  {
   "cell_type": "code",
   "execution_count": null,
   "id": "f0aff83a",
   "metadata": {},
   "outputs": [],
   "source": [
    "class_names = ds_train.class_names\n",
    "print(class_names)"
   ]
  },
  {
   "cell_type": "code",
   "execution_count": null,
   "id": "d4b5a984",
   "metadata": {},
   "outputs": [],
   "source": [
    "import matplotlib.pyplot as plt\n",
    "\n",
    "plt.figure(figsize=(10, 10))\n",
    "ds_take = ds_train.take(1)\n",
    "for images, labels in ds_take:\n",
    "  print(labels)\n",
    "  # print(images[0].shape)\n",
    "  # plt.imshow(images[0]/255)\n",
    "  for i in range(9):\n",
    "    ax = plt.subplot(3, 3, i + 1)\n",
    "    # plt.imshow(images[i].numpy().astype(\"uint8\"))\n",
    "    plt.imshow(images[i]/255)\n",
    "    plt.title(class_names[labels[i]])\n",
    "    plt.axis(\"off\")"
   ]
  },
  {
   "cell_type": "code",
   "execution_count": null,
   "id": "8c44cb92",
   "metadata": {},
   "outputs": [],
   "source": []
  },
  {
   "cell_type": "code",
   "execution_count": null,
   "id": "1d1859be",
   "metadata": {},
   "outputs": [],
   "source": [
    "for image_batch, labels_batch in ds_train:\n",
    "  print(image_batch.shape)\n",
    "  print(labels_batch.shape)\n",
    "  break"
   ]
  },
  {
   "cell_type": "code",
   "execution_count": null,
   "id": "4cadedd1",
   "metadata": {},
   "outputs": [],
   "source": [
    "# normalization_layer = tf.keras.layers.Rescaling(1./255)"
   ]
  },
  {
   "cell_type": "code",
   "execution_count": null,
   "id": "1d8b92b9",
   "metadata": {},
   "outputs": [],
   "source": [
    "# ds_train = ds_train.map(lambda x, y: (normalization_layer(x), y))\n",
    "# image_batch_train, labels_batch_train = next(iter(ds_train))\n",
    "# first_image = image_batch_train[0]\n",
    "# # Notice the pixel values are now in `[0,1]`.\n",
    "# print(np.min(first_image), np.max(first_image))"
   ]
  },
  {
   "cell_type": "code",
   "execution_count": null,
   "id": "7086185a",
   "metadata": {},
   "outputs": [],
   "source": [
    "# ds_valid = ds_valid.map(lambda x, y: (normalization_layer(x), y))\n",
    "# image_batch_valid, labels_batch_valid = next(iter(ds_valid))\n",
    "# first_image = image_batch_valid[0]\n",
    "# # Notice the pixel values are now in `[0,1]`.\n",
    "# print(np.min(first_image), np.max(first_image))"
   ]
  },
  {
   "cell_type": "code",
   "execution_count": null,
   "id": "493dfd22",
   "metadata": {},
   "outputs": [],
   "source": [
    "def process(image,label):\n",
    "    image = tf.cast(image/255. ,tf.float32)\n",
    "    return image,label"
   ]
  },
  {
   "cell_type": "code",
   "execution_count": null,
   "id": "1c0fb1a6",
   "metadata": {},
   "outputs": [],
   "source": [
    "ds_train = ds_train.map(process)\n",
    "ds_valid = ds_valid.map(process)"
   ]
  },
  {
   "cell_type": "code",
   "execution_count": null,
   "id": "9f53ab1f",
   "metadata": {},
   "outputs": [],
   "source": [
    "import matplotlib.pyplot as plt\n",
    "\n",
    "plt.figure(figsize=(10, 10))\n",
    "for images, labels in ds_train.take(1):\n",
    "  print(labels)\n",
    "  for i in range(9):\n",
    "    ax = plt.subplot(3, 3, i + 1)\n",
    "    plt.imshow(images[i])\n",
    "    plt.title(class_names[labels[i]])\n",
    "    plt.axis(\"off\")"
   ]
  },
  {
   "cell_type": "code",
   "execution_count": null,
   "id": "0830fa37",
   "metadata": {},
   "outputs": [],
   "source": [
    "# NAME = \"tender-cnn1-{}\".format(int(time.time()))\n",
    "# tensorboard = keras.callbacks.TensorBoard(log_dir=f\"logs/Xception{NAME}\", histogram_freq=0, write_graph=True, write_images=True)\n",
    "early_stopping_cb = keras.callbacks.EarlyStopping(patience=10, restore_best_weights=True)\n",
    "# checkpoint_cb = keras.callbacks.ModelCheckpoint(f\"models/Xception{NAME}.h5\", save_best_only=True)"
   ]
  },
  {
   "cell_type": "code",
   "execution_count": null,
   "id": "53db1ae9",
   "metadata": {},
   "outputs": [],
   "source": [
    "\n",
    "optimizer = keras.optimizers.SGD(learning_rate=0.01, momentum=0.9, decay=0.001)\n",
    "model_xception.compile(loss=\"binary_crossentropy\", optimizer=optimizer, metrics=[\"accuracy\"])"
   ]
  },
  {
   "cell_type": "code",
   "execution_count": null,
   "id": "b12aa90f",
   "metadata": {},
   "outputs": [],
   "source": [
    "history = model_xception.fit(ds_train,\n",
    "                    epochs=20,\n",
    "                    validation_data=ds_valid,\n",
    "                    callbacks=[early_stopping_cb])\n",
    "                    \n",
    "                   "
   ]
  }
 ],
 "metadata": {
  "kernelspec": {
   "display_name": "Python 3 (ipykernel)",
   "language": "python",
   "name": "python3"
  },
  "language_info": {
   "codemirror_mode": {
    "name": "ipython",
    "version": 3
   },
   "file_extension": ".py",
   "mimetype": "text/x-python",
   "name": "python",
   "nbconvert_exporter": "python",
   "pygments_lexer": "ipython3",
   "version": "3.9.9"
  }
 },
 "nbformat": 4,
 "nbformat_minor": 5
}
