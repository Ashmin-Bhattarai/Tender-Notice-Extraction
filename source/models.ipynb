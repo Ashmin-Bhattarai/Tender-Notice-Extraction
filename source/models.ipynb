{
 "cells": [
  {
   "cell_type": "code",
   "execution_count": 1,
   "id": "996ec419",
   "metadata": {},
   "outputs": [],
   "source": [
    "import os\n",
    "import time\n",
    "import tensorflow as tf\n",
    "from tensorflow import keras\n",
    "import numpy as np\n",
    "from ResNet import ResidualUnit\n",
    "from Inception import InceptionUnit"
   ]
  },
  {
   "cell_type": "code",
   "execution_count": 2,
   "id": "19fe69ab",
   "metadata": {},
   "outputs": [],
   "source": [
    "model_resnet34 = keras.models.Sequential()\n",
    "model_resnet34.add(keras.layers.Conv2D(64, 7, strides = 2, input_shape = [224, 224, 3], padding = \"same\", use_bias = False))\n",
    "model_resnet34.add(keras.layers.BatchNormalization())\n",
    "model_resnet34.add(keras.layers.Activation(\"relu\"))\n",
    "model_resnet34.add(keras.layers.MaxPool2D(pool_size=3, strides=2, padding = \"same\"))\n",
    "prev_filters = 64\n",
    "for filters in [64, 64, 128, 128, 256, 256, 512, 512]:\n",
    "    strides = 1 if filters == prev_filters else 2\n",
    "    model_resnet34.add(ResidualUnit(filters, strides = strides))\n",
    "    prev_filters = filters\n",
    "model_resnet34.add(keras.layers.GlobalAveragePooling2D())\n",
    "model_resnet34.add(keras.layers.Flatten())\n",
    "model_resnet34.add(keras.layers.Dense(10, activation = \"softmax\"))"
   ]
  },
  {
   "cell_type": "code",
   "execution_count": 20,
   "id": "2f2965e4",
   "metadata": {},
   "outputs": [],
   "source": [
    "model_googlenet = keras.models.Sequential()\n",
    "model_googlenet.add(keras.layers.Conv2D(64, 7, strides = 2, input_shape = [224, 224, 3], padding = \"same\", use_bias = False))\n",
    "model_googlenet.add(keras.layers.BatchNormalization())\n",
    "model_googlenet.add(keras.layers.Activation(\"relu\"))\n",
    "model_googlenet.add(keras.layers.MaxPool2D(pool_size=3, strides=2, padding = \"same\"))\n",
    "model_googlenet.add(InceptionUnit())\n",
    "model_googlenet.add(keras.layers.GlobalAveragePooling2D())\n",
    "model_googlenet.add(keras.layers.Flatten())\n",
    "model_googlenet.add(keras.layers.Dense(1, activation = \"sigmoid\"))"
   ]
  },
  {
   "cell_type": "code",
   "execution_count": null,
   "id": "0cc50b5e",
   "metadata": {},
   "outputs": [],
   "source": [
    "img_height = 224\n",
    "img_weight = 224\n",
    "batch_size = 16"
   ]
  },
  {
   "cell_type": "code",
   "execution_count": null,
   "id": "582053e4",
   "metadata": {},
   "outputs": [],
   "source": [
    "ds_train = keras.utils.image_dataset_from_directory(\n",
    "    \"\"E:\\Datasets\"\",\n",
    "    labels = 'inferred',\n",
    "    label_mode = \"int\",\n",
    "    color_mode = \"rgb\",\n",
    "    batch_size = batch_size,\n",
    "    image_size = (img_height, img_weight),\n",
    "    shuffle = True,\n",
    "    seed = 123,\n",
    "    validation_split = 0.20,\n",
    "    subset = \"training\"\n",
    ")"
   ]
  },
  {
   "cell_type": "code",
   "execution_count": null,
   "id": "ae882eb4",
   "metadata": {},
   "outputs": [],
   "source": [
    "ds_valid = keras.utils.image_dataset_from_directory(\n",
    "    \"\"E:\\Datasets\"\",\n",
    "    labels = 'inferred',\n",
    "    label_mode = \"int\",\n",
    "    color_mode = \"rgb\",\n",
    "    batch_size = batch_size,\n",
    "    image_size = (img_height, img_weight),\n",
    "    shuffle = True,\n",
    "    seed = 123,\n",
    "    validation_split = 0.20,\n",
    "    subset = \"validation\"\n",
    ")"
   ]
  },
  {
   "cell_type": "code",
   "execution_count": null,
   "id": "0830fa37",
   "metadata": {},
   "outputs": [],
   "source": [
    "NAME = \"tender-cnn1-{}\".format(int(time.time()))\n",
    "tensorboard = keras.callbacks.TensorBoard(log_dir=\"logs/{}\".format(NAME))"
   ]
  },
  {
   "cell_type": "code",
   "execution_count": null,
   "id": "53db1ae9",
   "metadata": {},
   "outputs": [],
   "source": [
    "early_stopping_cb = keras.callbacks.EarlyStopping(patience=10, restore_best_weights=True)\n",
    "optimizer = keras.optimizers.SGD(learning_rate=0.01, momentum=0.9, decay=0.001)\n",
    "model_googlenet.compile(loss=\"binary_crossentropy\", optimizer=optimizer, metrics=[\"accuracy\"])"
   ]
  },
  {
   "cell_type": "code",
   "execution_count": null,
   "id": "b12aa90f",
   "metadata": {},
   "outputs": [],
   "source": [
    "history = model_googlenet.fit(ds_train,\n",
    "                    epochs=1,\n",
    "                    validation_data=ds_valid,\n",
    "                    callbacks=[tensorboard]\n",
    "                   )"
   ]
  }
 ],
 "metadata": {
  "kernelspec": {
   "display_name": "Python 3 (ipykernel)",
   "language": "python",
   "name": "python3"
  },
  "language_info": {
   "codemirror_mode": {
    "name": "ipython",
    "version": 3
   },
   "file_extension": ".py",
   "mimetype": "text/x-python",
   "name": "python",
   "nbconvert_exporter": "python",
   "pygments_lexer": "ipython3",
   "version": "3.9.9"
  }
 },
 "nbformat": 4,
 "nbformat_minor": 5
}
